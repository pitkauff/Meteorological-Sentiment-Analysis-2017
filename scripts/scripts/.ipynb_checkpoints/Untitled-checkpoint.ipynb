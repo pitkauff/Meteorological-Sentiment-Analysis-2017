{
 "cells": [
  {
   "cell_type": "code",
   "execution_count": 9,
   "metadata": {
    "collapsed": true
   },
   "outputs": [],
   "source": [
    "import pandas as pd\n",
    "import time\n",
    "\n",
    "chicago = pd.read_json('/home/khalana/projects-ds-team/data/chicago_weather_sentiment_clean.json')\n",
    "\n",
    "# chicago['dayHour'] = chicago['local_datetime']['date'].apply(lambda x: time.strftime('%Y-%m-%d %h'),x)\n",
    "df = pd.read_csv('/home/khalana/Downloads/testSentiment.csv')\n",
    "\n",
    "\n",
    "df2 = pd.DataFrame(df.groupby(['timeHour','City']).agg({'Sentiment':'mean'}))"
   ]
  },
  {
   "cell_type": "code",
   "execution_count": 35,
   "metadata": {
    "collapsed": true
   },
   "outputs": [],
   "source": [
    "manhattan = pd.read_json('/home/khalana/projects-ds-team/data/manhattan_weather_sentiment_clean.json')"
   ]
  },
  {
   "cell_type": "code",
   "execution_count": 45,
   "metadata": {
    "collapsed": true
   },
   "outputs": [],
   "source": [
    "times = []\n",
    "for i in range(len(manhattan['created_at'])):\n",
    "    t = manhattan['created_at'][i]['$date']\n",
    "    t = int(t/1000)\n",
    "    tClean = time.strftime('%Y-%m-%d %H', time.localtime(t))\n",
    "    times.append(tClean)\n",
    "\n",
    "# day = time.strftime('%Y-%m-%d', tm.localtime(t))"
   ]
  },
  {
   "cell_type": "code",
   "execution_count": 53,
   "metadata": {
    "scrolled": true
   },
   "outputs": [
    {
     "name": "stderr",
     "output_type": "stream",
     "text": [
      "/usr/local/anaconda3/lib/python3.6/site-packages/ipykernel_launcher.py:8: DeprecationWarning: 'U' mode is deprecated\n",
      "  \n",
      "/usr/local/anaconda3/lib/python3.6/site-packages/IPython/core/interactiveshell.py:2717: DtypeWarning: Columns (0,2) have mixed types. Specify dtype option on import or set low_memory=False.\n",
      "  interactivity=interactivity, compiler=compiler, result=result)\n",
      "/usr/local/anaconda3/lib/python3.6/site-packages/IPython/core/interactiveshell.py:2717: DtypeWarning: Columns (0) have mixed types. Specify dtype option on import or set low_memory=False.\n",
      "  interactivity=interactivity, compiler=compiler, result=result)\n"
     ]
    }
   ],
   "source": [
    "import os\n",
    "\n",
    "path = '/home/khalana/Python3 files for timesearch/subreddits/'\n",
    "allReddit = pd.DataFrame()\n",
    "for filename in os.listdir(path):\n",
    "#     print(path+filename)\n",
    "    if filename.endswith(\".csv\"): \n",
    "        df = pd.read_csv(open(path + filename,'rU'), encoding='utf-8', engine='c')\n",
    "        allReddit = allReddit.append(df,ignore_index=True)\n",
    "    else:\n",
    "        continue\n"
   ]
  },
  {
   "cell_type": "code",
   "execution_count": 59,
   "metadata": {},
   "outputs": [],
   "source": [
    "badCols = ['idint', 'idstr','author', 'parent','distinguish']\n",
    "for col in badCols:\n",
    "    del allReddit[col]"
   ]
  },
  {
   "cell_type": "code",
   "execution_count": 55,
   "metadata": {},
   "outputs": [],
   "source": [
    "allReddit['created'] = pd.to_numeric(allReddit['created'], errors='coerce')\n",
    "# min(allReddit['created'])\n",
    "\n",
    "allReddit = allReddit[allReddit['created'] > 1405000000]  "
   ]
  },
  {
   "cell_type": "code",
   "execution_count": 60,
   "metadata": {},
   "outputs": [],
   "source": [
    "allRedditDict = allReddit.to_dict('records')"
   ]
  },
  {
   "cell_type": "code",
   "execution_count": null,
   "metadata": {
    "collapsed": true
   },
   "outputs": [],
   "source": [
    "allReddir.to)c"
   ]
  },
  {
   "cell_type": "code",
   "execution_count": 63,
   "metadata": {},
   "outputs": [],
   "source": [
    "import json\n",
    "json.dumps(allRedditDict)"
   ]
  }
 ],
 "metadata": {
  "kernelspec": {
   "display_name": "Python 3",
   "language": "python",
   "name": "python3"
  },
  "language_info": {
   "codemirror_mode": {
    "name": "ipython",
    "version": 3
   },
   "file_extension": ".py",
   "mimetype": "text/x-python",
   "name": "python",
   "nbconvert_exporter": "python",
   "pygments_lexer": "ipython3",
   "version": "3.6.1"
  }
 },
 "nbformat": 4,
 "nbformat_minor": 2
}
